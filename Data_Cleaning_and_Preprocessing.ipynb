{
 "cells": [
  {
   "cell_type": "markdown",
   "id": "447d160e",
   "metadata": {},
   "source": [
    "### Importing required modules"
   ]
  },
  {
   "cell_type": "code",
   "execution_count": 1,
   "id": "ee6908a3",
   "metadata": {},
   "outputs": [],
   "source": [
    "import os\n",
    "import importlib\n",
    "\n",
    "import pandas as pd\n",
    "import numpy as np\n",
    "import seaborn as sns"
   ]
  },
  {
   "cell_type": "code",
   "execution_count": 62,
   "id": "9fb873bd",
   "metadata": {},
   "outputs": [],
   "source": [
    "from utils import preprocessing, io_files, plot_utils\n",
    "\n",
    "importlib.reload(preprocessing)\n",
    "importlib.reload(plot_utils)\n",
    "_ = importlib.reload(io_files)"
   ]
  },
  {
   "cell_type": "markdown",
   "id": "feba2f99",
   "metadata": {},
   "source": [
    "### Importing dataset file and loading the data."
   ]
  },
  {
   "cell_type": "code",
   "execution_count": 3,
   "id": "70f6b165",
   "metadata": {},
   "outputs": [],
   "source": [
    "dataset_file = \"dataset/archive/AB_NYC_2019.csv\""
   ]
  },
  {
   "cell_type": "code",
   "execution_count": 4,
   "id": "e22a35dc",
   "metadata": {},
   "outputs": [
    {
     "name": "stdout",
     "output_type": "stream",
     "text": [
      "Dataset size:\n",
      "\trows: 48895\n",
      "\tcolumns: 16\n"
     ]
    }
   ],
   "source": [
    "df0 = pd.read_csv(dataset_file)\n",
    "df0.head()\n",
    "\n",
    "\n",
    "print(\"Dataset size:\\n\"\n",
    "      f\"\\trows: {df0.shape[0]}\\n\"\n",
    "      f\"\\tcolumns: {df0.shape[1]}\")"
   ]
  },
  {
   "cell_type": "code",
   "execution_count": 5,
   "id": "fcdff390",
   "metadata": {},
   "outputs": [
    {
     "data": {
      "text/plain": [
       "['id',\n",
       " 'name',\n",
       " 'host_id',\n",
       " 'host_name',\n",
       " 'neighbourhood_group',\n",
       " 'neighbourhood',\n",
       " 'latitude',\n",
       " 'longitude',\n",
       " 'room_type',\n",
       " 'price',\n",
       " 'minimum_nights',\n",
       " 'number_of_reviews',\n",
       " 'last_review',\n",
       " 'reviews_per_month',\n",
       " 'calculated_host_listings_count',\n",
       " 'availability_365']"
      ]
     },
     "metadata": {},
     "output_type": "display_data"
    }
   ],
   "source": [
    "display(df0.columns.tolist())"
   ]
  },
  {
   "cell_type": "code",
   "execution_count": 6,
   "id": "94d6024b",
   "metadata": {},
   "outputs": [
    {
     "data": {
      "text/html": [
       "<div>\n",
       "<style scoped>\n",
       "    .dataframe tbody tr th:only-of-type {\n",
       "        vertical-align: middle;\n",
       "    }\n",
       "\n",
       "    .dataframe tbody tr th {\n",
       "        vertical-align: top;\n",
       "    }\n",
       "\n",
       "    .dataframe thead th {\n",
       "        text-align: right;\n",
       "    }\n",
       "</style>\n",
       "<table border=\"1\" class=\"dataframe\">\n",
       "  <thead>\n",
       "    <tr style=\"text-align: right;\">\n",
       "      <th></th>\n",
       "      <th>Missing Data</th>\n",
       "      <th>% of Missing Data</th>\n",
       "    </tr>\n",
       "  </thead>\n",
       "  <tbody>\n",
       "    <tr>\n",
       "      <th>last_review</th>\n",
       "      <td>10052</td>\n",
       "      <td>20.56</td>\n",
       "    </tr>\n",
       "    <tr>\n",
       "      <th>reviews_per_month</th>\n",
       "      <td>10052</td>\n",
       "      <td>20.56</td>\n",
       "    </tr>\n",
       "  </tbody>\n",
       "</table>\n",
       "</div>"
      ],
      "text/plain": [
       "                   Missing Data  % of Missing Data\n",
       "last_review               10052              20.56\n",
       "reviews_per_month         10052              20.56"
      ]
     },
     "metadata": {},
     "output_type": "display_data"
    }
   ],
   "source": [
    "preprocessing.drop_irrelevant_cols(df0)\n",
    "missing_data_info_df = preprocessing.find_missing_data_freq(df0)\n",
    "display(missing_data_info_df)"
   ]
  },
  {
   "cell_type": "markdown",
   "id": "726bde99",
   "metadata": {},
   "source": [
    "## Step 1: Cleaning and Pre-Processing data for further analysis"
   ]
  },
  {
   "cell_type": "markdown",
   "id": "3cd028ad",
   "metadata": {},
   "source": [
    "### Finding Missing data for last_review or reviews_per_month"
   ]
  },
  {
   "cell_type": "code",
   "execution_count": 7,
   "id": "9635cb6a",
   "metadata": {},
   "outputs": [
    {
     "data": {
      "text/html": [
       "<div>\n",
       "<style scoped>\n",
       "    .dataframe tbody tr th:only-of-type {\n",
       "        vertical-align: middle;\n",
       "    }\n",
       "\n",
       "    .dataframe tbody tr th {\n",
       "        vertical-align: top;\n",
       "    }\n",
       "\n",
       "    .dataframe thead th {\n",
       "        text-align: right;\n",
       "    }\n",
       "</style>\n",
       "<table border=\"1\" class=\"dataframe\">\n",
       "  <thead>\n",
       "    <tr style=\"text-align: right;\">\n",
       "      <th></th>\n",
       "      <th>id</th>\n",
       "      <th>host_id</th>\n",
       "      <th>neighbourhood_group</th>\n",
       "      <th>neighbourhood</th>\n",
       "      <th>latitude</th>\n",
       "      <th>longitude</th>\n",
       "      <th>room_type</th>\n",
       "      <th>price</th>\n",
       "      <th>minimum_nights</th>\n",
       "      <th>number_of_reviews</th>\n",
       "      <th>last_review</th>\n",
       "      <th>reviews_per_month</th>\n",
       "      <th>calculated_host_listings_count</th>\n",
       "      <th>availability_365</th>\n",
       "    </tr>\n",
       "  </thead>\n",
       "  <tbody>\n",
       "    <tr>\n",
       "      <th>2</th>\n",
       "      <td>3647</td>\n",
       "      <td>4632</td>\n",
       "      <td>Manhattan</td>\n",
       "      <td>Harlem</td>\n",
       "      <td>40.80902</td>\n",
       "      <td>-73.94190</td>\n",
       "      <td>Private room</td>\n",
       "      <td>150</td>\n",
       "      <td>3</td>\n",
       "      <td>0</td>\n",
       "      <td>NaN</td>\n",
       "      <td>NaN</td>\n",
       "      <td>1</td>\n",
       "      <td>365</td>\n",
       "    </tr>\n",
       "    <tr>\n",
       "      <th>19</th>\n",
       "      <td>7750</td>\n",
       "      <td>17985</td>\n",
       "      <td>Manhattan</td>\n",
       "      <td>East Harlem</td>\n",
       "      <td>40.79685</td>\n",
       "      <td>-73.94872</td>\n",
       "      <td>Entire home/apt</td>\n",
       "      <td>190</td>\n",
       "      <td>7</td>\n",
       "      <td>0</td>\n",
       "      <td>NaN</td>\n",
       "      <td>NaN</td>\n",
       "      <td>2</td>\n",
       "      <td>249</td>\n",
       "    </tr>\n",
       "    <tr>\n",
       "      <th>26</th>\n",
       "      <td>8700</td>\n",
       "      <td>26394</td>\n",
       "      <td>Manhattan</td>\n",
       "      <td>Inwood</td>\n",
       "      <td>40.86754</td>\n",
       "      <td>-73.92639</td>\n",
       "      <td>Private room</td>\n",
       "      <td>80</td>\n",
       "      <td>4</td>\n",
       "      <td>0</td>\n",
       "      <td>NaN</td>\n",
       "      <td>NaN</td>\n",
       "      <td>1</td>\n",
       "      <td>0</td>\n",
       "    </tr>\n",
       "    <tr>\n",
       "      <th>36</th>\n",
       "      <td>11452</td>\n",
       "      <td>7355</td>\n",
       "      <td>Brooklyn</td>\n",
       "      <td>Bedford-Stuyvesant</td>\n",
       "      <td>40.68876</td>\n",
       "      <td>-73.94312</td>\n",
       "      <td>Private room</td>\n",
       "      <td>35</td>\n",
       "      <td>60</td>\n",
       "      <td>0</td>\n",
       "      <td>NaN</td>\n",
       "      <td>NaN</td>\n",
       "      <td>1</td>\n",
       "      <td>365</td>\n",
       "    </tr>\n",
       "    <tr>\n",
       "      <th>38</th>\n",
       "      <td>11943</td>\n",
       "      <td>45445</td>\n",
       "      <td>Brooklyn</td>\n",
       "      <td>Flatbush</td>\n",
       "      <td>40.63702</td>\n",
       "      <td>-73.96327</td>\n",
       "      <td>Private room</td>\n",
       "      <td>150</td>\n",
       "      <td>1</td>\n",
       "      <td>0</td>\n",
       "      <td>NaN</td>\n",
       "      <td>NaN</td>\n",
       "      <td>1</td>\n",
       "      <td>365</td>\n",
       "    </tr>\n",
       "  </tbody>\n",
       "</table>\n",
       "</div>"
      ],
      "text/plain": [
       "       id  host_id neighbourhood_group       neighbourhood  latitude   \n",
       "2    3647     4632           Manhattan              Harlem  40.80902  \\\n",
       "19   7750    17985           Manhattan         East Harlem  40.79685   \n",
       "26   8700    26394           Manhattan              Inwood  40.86754   \n",
       "36  11452     7355            Brooklyn  Bedford-Stuyvesant  40.68876   \n",
       "38  11943    45445            Brooklyn            Flatbush  40.63702   \n",
       "\n",
       "    longitude        room_type  price  minimum_nights  number_of_reviews   \n",
       "2   -73.94190     Private room    150               3                  0  \\\n",
       "19  -73.94872  Entire home/apt    190               7                  0   \n",
       "26  -73.92639     Private room     80               4                  0   \n",
       "36  -73.94312     Private room     35              60                  0   \n",
       "38  -73.96327     Private room    150               1                  0   \n",
       "\n",
       "   last_review  reviews_per_month  calculated_host_listings_count   \n",
       "2          NaN                NaN                               1  \\\n",
       "19         NaN                NaN                               2   \n",
       "26         NaN                NaN                               1   \n",
       "36         NaN                NaN                               1   \n",
       "38         NaN                NaN                               1   \n",
       "\n",
       "    availability_365  \n",
       "2                365  \n",
       "19               249  \n",
       "26                 0  \n",
       "36               365  \n",
       "38               365  "
      ]
     },
     "metadata": {},
     "output_type": "display_data"
    },
    {
     "name": "stdout",
     "output_type": "stream",
     "text": [
      "Missing data rows: 10052\n"
     ]
    }
   ],
   "source": [
    "# rows with missing last-review and reviews per month\n",
    "df_missing_data = df0[df0.last_review.isna() | df0.reviews_per_month.isna()]\n",
    "\n",
    "display(df_missing_data.head())\n",
    "\n",
    "print(\"Missing data rows:\", df_missing_data.shape[0])"
   ]
  },
  {
   "cell_type": "markdown",
   "id": "66a96a14",
   "metadata": {},
   "source": [
    "We can see that there are **10,000+ rows** that have missing data.\n",
    "\n",
    "The information of `last_review` or `reviews_per_month` is very important to determine the popularity or activity of certain listing.\n",
    "\\\n",
    "So, we need to device a way to trim out those hosts that are least active and are going to do minimal contribution to the model."
   ]
  },
  {
   "cell_type": "code",
   "execution_count": 8,
   "id": "81c216a5",
   "metadata": {},
   "outputs": [
    {
     "name": "stdout",
     "output_type": "stream",
     "text": [
      "8238 unique hosts having missing missing information.\n"
     ]
    }
   ],
   "source": [
    "unique_missing_data_hostid = df_missing_data.host_id.unique().tolist()\n",
    "print(len(unique_missing_data_hostid), \"unique hosts having missing missing information.\")"
   ]
  },
  {
   "cell_type": "markdown",
   "id": "4ec68dd5",
   "metadata": {},
   "source": [
    "Thus, `8238` hosts are _unique_ rest of the hosts from `10,052` listing hosts are _duplicate_.\n",
    "\\\n",
    "This means, there're around 2k+ hosts that have repeated missing information about `last_review_date` or `reviews_per_month` data.\n",
    "\n",
    "So, we are tring to find the ratio of $\\frac{missing}{non-missing}$ data for each of those `8238` hosts."
   ]
  },
  {
   "cell_type": "code",
   "execution_count": 9,
   "id": "6e70b3fe",
   "metadata": {},
   "outputs": [
    {
     "data": {
      "text/html": [
       "<div>\n",
       "<style scoped>\n",
       "    .dataframe tbody tr th:only-of-type {\n",
       "        vertical-align: middle;\n",
       "    }\n",
       "\n",
       "    .dataframe tbody tr th {\n",
       "        vertical-align: top;\n",
       "    }\n",
       "\n",
       "    .dataframe thead th {\n",
       "        text-align: right;\n",
       "    }\n",
       "</style>\n",
       "<table border=\"1\" class=\"dataframe\">\n",
       "  <thead>\n",
       "    <tr style=\"text-align: right;\">\n",
       "      <th></th>\n",
       "      <th>id</th>\n",
       "      <th>host_id</th>\n",
       "      <th>neighbourhood_group</th>\n",
       "      <th>neighbourhood</th>\n",
       "      <th>latitude</th>\n",
       "      <th>longitude</th>\n",
       "      <th>room_type</th>\n",
       "      <th>price</th>\n",
       "      <th>minimum_nights</th>\n",
       "      <th>number_of_reviews</th>\n",
       "      <th>last_review</th>\n",
       "      <th>reviews_per_month</th>\n",
       "      <th>calculated_host_listings_count</th>\n",
       "      <th>availability_365</th>\n",
       "    </tr>\n",
       "  </thead>\n",
       "  <tbody>\n",
       "    <tr>\n",
       "      <th>2</th>\n",
       "      <td>3647</td>\n",
       "      <td>4632</td>\n",
       "      <td>Manhattan</td>\n",
       "      <td>Harlem</td>\n",
       "      <td>40.80902</td>\n",
       "      <td>-73.94190</td>\n",
       "      <td>Private room</td>\n",
       "      <td>150</td>\n",
       "      <td>3</td>\n",
       "      <td>0</td>\n",
       "      <td>NaN</td>\n",
       "      <td>NaN</td>\n",
       "      <td>1</td>\n",
       "      <td>365</td>\n",
       "    </tr>\n",
       "    <tr>\n",
       "      <th>19</th>\n",
       "      <td>7750</td>\n",
       "      <td>17985</td>\n",
       "      <td>Manhattan</td>\n",
       "      <td>East Harlem</td>\n",
       "      <td>40.79685</td>\n",
       "      <td>-73.94872</td>\n",
       "      <td>Entire home/apt</td>\n",
       "      <td>190</td>\n",
       "      <td>7</td>\n",
       "      <td>0</td>\n",
       "      <td>NaN</td>\n",
       "      <td>NaN</td>\n",
       "      <td>2</td>\n",
       "      <td>249</td>\n",
       "    </tr>\n",
       "    <tr>\n",
       "      <th>26</th>\n",
       "      <td>8700</td>\n",
       "      <td>26394</td>\n",
       "      <td>Manhattan</td>\n",
       "      <td>Inwood</td>\n",
       "      <td>40.86754</td>\n",
       "      <td>-73.92639</td>\n",
       "      <td>Private room</td>\n",
       "      <td>80</td>\n",
       "      <td>4</td>\n",
       "      <td>0</td>\n",
       "      <td>NaN</td>\n",
       "      <td>NaN</td>\n",
       "      <td>1</td>\n",
       "      <td>0</td>\n",
       "    </tr>\n",
       "    <tr>\n",
       "      <th>28</th>\n",
       "      <td>9518</td>\n",
       "      <td>31374</td>\n",
       "      <td>Manhattan</td>\n",
       "      <td>Inwood</td>\n",
       "      <td>40.86482</td>\n",
       "      <td>-73.92106</td>\n",
       "      <td>Private room</td>\n",
       "      <td>44</td>\n",
       "      <td>3</td>\n",
       "      <td>108</td>\n",
       "      <td>2019-06-15</td>\n",
       "      <td>1.11</td>\n",
       "      <td>3</td>\n",
       "      <td>311</td>\n",
       "    </tr>\n",
       "    <tr>\n",
       "      <th>36</th>\n",
       "      <td>11452</td>\n",
       "      <td>7355</td>\n",
       "      <td>Brooklyn</td>\n",
       "      <td>Bedford-Stuyvesant</td>\n",
       "      <td>40.68876</td>\n",
       "      <td>-73.94312</td>\n",
       "      <td>Private room</td>\n",
       "      <td>35</td>\n",
       "      <td>60</td>\n",
       "      <td>0</td>\n",
       "      <td>NaN</td>\n",
       "      <td>NaN</td>\n",
       "      <td>1</td>\n",
       "      <td>365</td>\n",
       "    </tr>\n",
       "  </tbody>\n",
       "</table>\n",
       "</div>"
      ],
      "text/plain": [
       "       id  host_id neighbourhood_group       neighbourhood  latitude   \n",
       "2    3647     4632           Manhattan              Harlem  40.80902  \\\n",
       "19   7750    17985           Manhattan         East Harlem  40.79685   \n",
       "26   8700    26394           Manhattan              Inwood  40.86754   \n",
       "28   9518    31374           Manhattan              Inwood  40.86482   \n",
       "36  11452     7355            Brooklyn  Bedford-Stuyvesant  40.68876   \n",
       "\n",
       "    longitude        room_type  price  minimum_nights  number_of_reviews   \n",
       "2   -73.94190     Private room    150               3                  0  \\\n",
       "19  -73.94872  Entire home/apt    190               7                  0   \n",
       "26  -73.92639     Private room     80               4                  0   \n",
       "28  -73.92106     Private room     44               3                108   \n",
       "36  -73.94312     Private room     35              60                  0   \n",
       "\n",
       "   last_review  reviews_per_month  calculated_host_listings_count   \n",
       "2          NaN                NaN                               1  \\\n",
       "19         NaN                NaN                               2   \n",
       "26         NaN                NaN                               1   \n",
       "28  2019-06-15               1.11                               3   \n",
       "36         NaN                NaN                               1   \n",
       "\n",
       "    availability_365  \n",
       "2                365  \n",
       "19               249  \n",
       "26                 0  \n",
       "28               311  \n",
       "36               365  "
      ]
     },
     "execution_count": 9,
     "metadata": {},
     "output_type": "execute_result"
    }
   ],
   "source": [
    "# rows having host_id from unique_missing_data_hostid and their number of missing data rows/ number of non-missing data rows\n",
    "rows_missing_last_review_reviews_per_month = df0[df0.host_id.isin(unique_missing_data_hostid)]\n",
    "rows_missing_last_review_reviews_per_month.head()"
   ]
  },
  {
   "cell_type": "code",
   "execution_count": 10,
   "id": "62383ab9",
   "metadata": {},
   "outputs": [
    {
     "data": {
      "text/plain": [
       "PosixPath('/media/tuhin/hdd/Documents/All_Python_Resources/AirBNB_DataAnalysis/utils/tmp/Missing-review-info-hostid-collection.csv')"
      ]
     },
     "execution_count": 10,
     "metadata": {},
     "output_type": "execute_result"
    }
   ],
   "source": [
    "io_files.export_as_csv(rows_missing_last_review_reviews_per_month, filename=\"Missing-review-info-hostid-collection.csv\")"
   ]
  },
  {
   "cell_type": "markdown",
   "id": "15e9d992",
   "metadata": {},
   "source": [
    "### Finding the information about missing/non-missing review data information.\n",
    "\n",
    "Using this information, we can exclude certain hosts that have mostly missing data and can negatively affect the model prediction.\n",
    "\\\n",
    "As per the calculation, above we will get 8238 rows of host id information that have **atleast one missing data row.**\n",
    "\n",
    "The criteria for considering one missing data row is: **Either of the following condition has to satisfy**:\n",
    "1. `number_of_reviews` must be `0` or `None/NaN`\n",
    "2. `reviews_per_month` has to be `0` or `None/NaN`\n",
    "3. `last_review` has to be `NaN`"
   ]
  },
  {
   "cell_type": "code",
   "execution_count": 11,
   "id": "7d6c9c9f",
   "metadata": {},
   "outputs": [
    {
     "data": {
      "text/html": [
       "<div>\n",
       "<style scoped>\n",
       "    .dataframe tbody tr th:only-of-type {\n",
       "        vertical-align: middle;\n",
       "    }\n",
       "\n",
       "    .dataframe tbody tr th {\n",
       "        vertical-align: top;\n",
       "    }\n",
       "\n",
       "    .dataframe thead th {\n",
       "        text-align: right;\n",
       "    }\n",
       "</style>\n",
       "<table border=\"1\" class=\"dataframe\">\n",
       "  <thead>\n",
       "    <tr style=\"text-align: right;\">\n",
       "      <th></th>\n",
       "      <th>host_id</th>\n",
       "      <th>missing_review_count</th>\n",
       "      <th>non_missing_review_count</th>\n",
       "      <th>missing_review_percent</th>\n",
       "    </tr>\n",
       "  </thead>\n",
       "  <tbody>\n",
       "    <tr>\n",
       "      <th>2</th>\n",
       "      <td>4632</td>\n",
       "      <td>1</td>\n",
       "      <td>0</td>\n",
       "      <td>100.000000</td>\n",
       "    </tr>\n",
       "    <tr>\n",
       "      <th>19</th>\n",
       "      <td>17985</td>\n",
       "      <td>1</td>\n",
       "      <td>1</td>\n",
       "      <td>50.000000</td>\n",
       "    </tr>\n",
       "    <tr>\n",
       "      <th>24</th>\n",
       "      <td>26394</td>\n",
       "      <td>1</td>\n",
       "      <td>0</td>\n",
       "      <td>100.000000</td>\n",
       "    </tr>\n",
       "    <tr>\n",
       "      <th>26</th>\n",
       "      <td>31374</td>\n",
       "      <td>1</td>\n",
       "      <td>2</td>\n",
       "      <td>33.333333</td>\n",
       "    </tr>\n",
       "    <tr>\n",
       "      <th>32</th>\n",
       "      <td>7355</td>\n",
       "      <td>1</td>\n",
       "      <td>0</td>\n",
       "      <td>100.000000</td>\n",
       "    </tr>\n",
       "    <tr>\n",
       "      <th>...</th>\n",
       "      <td>...</td>\n",
       "      <td>...</td>\n",
       "      <td>...</td>\n",
       "      <td>...</td>\n",
       "    </tr>\n",
       "    <tr>\n",
       "      <th>37452</th>\n",
       "      <td>274307600</td>\n",
       "      <td>1</td>\n",
       "      <td>0</td>\n",
       "      <td>100.000000</td>\n",
       "    </tr>\n",
       "    <tr>\n",
       "      <th>37453</th>\n",
       "      <td>274311461</td>\n",
       "      <td>1</td>\n",
       "      <td>0</td>\n",
       "      <td>100.000000</td>\n",
       "    </tr>\n",
       "    <tr>\n",
       "      <th>37454</th>\n",
       "      <td>274321313</td>\n",
       "      <td>1</td>\n",
       "      <td>0</td>\n",
       "      <td>100.000000</td>\n",
       "    </tr>\n",
       "    <tr>\n",
       "      <th>37455</th>\n",
       "      <td>23492952</td>\n",
       "      <td>1</td>\n",
       "      <td>0</td>\n",
       "      <td>100.000000</td>\n",
       "    </tr>\n",
       "    <tr>\n",
       "      <th>37456</th>\n",
       "      <td>68119814</td>\n",
       "      <td>1</td>\n",
       "      <td>0</td>\n",
       "      <td>100.000000</td>\n",
       "    </tr>\n",
       "  </tbody>\n",
       "</table>\n",
       "<p>8238 rows × 4 columns</p>\n",
       "</div>"
      ],
      "text/plain": [
       "         host_id missing_review_count non_missing_review_count   \n",
       "2           4632                    1                        0  \\\n",
       "19         17985                    1                        1   \n",
       "24         26394                    1                        0   \n",
       "26         31374                    1                        2   \n",
       "32          7355                    1                        0   \n",
       "...          ...                  ...                      ...   \n",
       "37452  274307600                    1                        0   \n",
       "37453  274311461                    1                        0   \n",
       "37454  274321313                    1                        0   \n",
       "37455   23492952                    1                        0   \n",
       "37456   68119814                    1                        0   \n",
       "\n",
       "       missing_review_percent  \n",
       "2                  100.000000  \n",
       "19                  50.000000  \n",
       "24                 100.000000  \n",
       "26                  33.333333  \n",
       "32                 100.000000  \n",
       "...                       ...  \n",
       "37452              100.000000  \n",
       "37453              100.000000  \n",
       "37454              100.000000  \n",
       "37455              100.000000  \n",
       "37456              100.000000  \n",
       "\n",
       "[8238 rows x 4 columns]"
      ]
     },
     "execution_count": 11,
     "metadata": {},
     "output_type": "execute_result"
    }
   ],
   "source": [
    "df_host_missing_review = preprocessing.find_host_missing_review_data(df0)\n",
    "df_host_missing_review.loc[df_host_missing_review.missing_review_count != 0, :]"
   ]
  },
  {
   "cell_type": "code",
   "execution_count": 12,
   "id": "58ff3713",
   "metadata": {},
   "outputs": [
    {
     "data": {
      "text/plain": [
       "8068"
      ]
     },
     "execution_count": 12,
     "metadata": {},
     "output_type": "execute_result"
    }
   ],
   "source": [
    "df_host_missing_review[df_host_missing_review.missing_review_percent >= 30].shape[0]"
   ]
  },
  {
   "cell_type": "markdown",
   "id": "c0a8a5eb",
   "metadata": {},
   "source": [
    "From above calculation, we can see that there are **`8068` rows/hosts** that contain **`30% <=`** amount of their data **missing review information**"
   ]
  },
  {
   "cell_type": "markdown",
   "id": "39879717",
   "metadata": {},
   "source": [
    "### Cleaning irrelevant data rows (based on review information missing)\n",
    "\n",
    "As calculated in the above section, that around `30%` of the hosts are missing their **last review date**, **reviews per month** or **number of reviews** information. These parameters are important to decide what is the activity of perticular hosts. Based on that, we tracked out all the `host ids` and the information related to how much amout of data they are missing.\n",
    "\n",
    "Based on the assumption that if more than `30%` data of some hosts are missing, we can remove all the listing information for that particular `host id`."
   ]
  },
  {
   "cell_type": "markdown",
   "id": "aa616f78",
   "metadata": {},
   "source": [
    "**Cleaning out hosts that contain more than or equal to 30% of their data missing.**"
   ]
  },
  {
   "cell_type": "code",
   "execution_count": 13,
   "id": "492da5dc",
   "metadata": {},
   "outputs": [
    {
     "name": "stdout",
     "output_type": "stream",
     "text": [
      "8068 hosts to remove from the dataset.\n"
     ]
    }
   ],
   "source": [
    "to_remove_host_ids = df_host_missing_review[df_host_missing_review.missing_review_percent >= 30].host_id.unique()\n",
    "\n",
    "print(f\"{len(to_remove_host_ids)} hosts to remove from the dataset.\")"
   ]
  },
  {
   "cell_type": "code",
   "execution_count": 14,
   "id": "a61cd23a",
   "metadata": {},
   "outputs": [
    {
     "name": "stdout",
     "output_type": "stream",
     "text": [
      "11649 rows will be dropped from the dataset.\n"
     ]
    }
   ],
   "source": [
    "rows_to_remove = df0[df0.host_id.isin(to_remove_host_ids)]\n",
    "\n",
    "print(f\"{rows_to_remove.shape[0]} rows will be dropped from the dataset.\")"
   ]
  },
  {
   "cell_type": "code",
   "execution_count": 15,
   "id": "925ff23b",
   "metadata": {},
   "outputs": [
    {
     "name": "stdout",
     "output_type": "stream",
     "text": [
      "Dataset new length: 37246\n"
     ]
    }
   ],
   "source": [
    "df01 = df0.copy()\n",
    "df01.drop(rows_to_remove.index, axis=0, inplace=True)\n",
    "\n",
    "print(f\"Dataset new length: {df01.shape[0]}\")"
   ]
  },
  {
   "cell_type": "markdown",
   "id": "13dfd965",
   "metadata": {},
   "source": [
    "**11,649 rows have been removed from the dataset. With 30% as the threshold limit for the missing percent of review information.**"
   ]
  },
  {
   "cell_type": "markdown",
   "id": "50013d2b",
   "metadata": {},
   "source": [
    "## Step 2: Data Exploratory Analysis"
   ]
  },
  {
   "cell_type": "markdown",
   "id": "91d5bdfc",
   "metadata": {},
   "source": [
    "### A. What is the price distribution across different neighbouring groups in NYC ?"
   ]
  },
  {
   "cell_type": "code",
   "execution_count": 16,
   "id": "41d8a760",
   "metadata": {},
   "outputs": [
    {
     "data": {
      "text/plain": [
       "<Axes: xlabel='neighbourhood_group', ylabel='price'>"
      ]
     },
     "execution_count": 16,
     "metadata": {},
     "output_type": "execute_result"
    },
    {
     "data": {
      "image/png": "[encoded data removed]",
      "text/plain": [
       "<Figure size 640x480 with 1 Axes>"
      ]
     },
     "metadata": {},
     "output_type": "display_data"
    }
   ],
   "source": [
    "sns.barplot(df01, x='neighbourhood_group', y='price')"
   ]
  },
  {
   "cell_type": "markdown",
   "id": "7ec466fc",
   "metadata": {},
   "source": [
    "The above distribution shows that Manhattan has the highest priced listing as per the data. While Brooklyn ranks the second most costly place."
   ]
  },
  {
   "cell_type": "markdown",
   "id": "398c78da",
   "metadata": {},
   "source": [
    "### B. What proportion of rentals correspond to each room type?"
   ]
  },
  {
   "cell_type": "markdown",
   "id": "b6270f86",
   "metadata": {},
   "source": [
    "**Interactive visualization to find proportion of each room type booked in a particular neighbourhood group**"
   ]
  },
  {
   "cell_type": "code",
   "execution_count": 17,
   "id": "b36d86d6",
   "metadata": {
    "scrolled": true
   },
   "outputs": [
    {
     "data": {
      "application/vnd.jupyter.widget-view+json": {
       "model_id": "c7c4832173484a229ed83ddb214cddf3",
       "version_major": 2,
       "version_minor": 0
      },
      "text/plain": [
       "Dropdown(description='Select Neighbourhood:', options=('Brooklyn', 'Manhattan', 'Queens', 'Staten Island', 'Br…"
      ]
     },
     "metadata": {},
     "output_type": "display_data"
    }
   ],
   "source": [
    "import ipywidgets as widgets\n",
    "from IPython.display import clear_output\n",
    "from matplotlib import pyplot as plt\n",
    "\n",
    "dropdown = widgets.Dropdown(\n",
    "    options = df0.neighbourhood_group.unique(),\n",
    "    value = df0.neighbourhood_group.unique()[0],\n",
    "    description = \"Select Neighbourhood:\",\n",
    "    disabled = False\n",
    ")\n",
    "\n",
    "def formatter_func(pct, allvals):\n",
    "    absolute = int(np.round(pct/100.*np.sum(allvals)))\n",
    "    return f\"{pct:.1f}%\\n({absolute:d})\"\n",
    "\n",
    "\n",
    "def plot_pie_chart(selected_nb_str: str):\n",
    "    nb_selected_rt_data = df01.loc[df01.neighbourhood_group == selected_nb_str, 'room_type']\n",
    "    data = nb_selected_rt_data.value_counts(normalize=True) * 100\n",
    "\n",
    "    fig, ax = plt.subplots(figsize=(8, 5), subplot_kw=dict(aspect=\"equal\"))\n",
    "    wedges, texts, autotexts = ax.pie(data, autopct=lambda pct: formatter_func(pct, data),\n",
    "                                      textprops=dict(color=\"w\"))\n",
    "\n",
    "    ax.legend(wedges, nb_selected_rt_data.unique(),\n",
    "              title=\"Neighbourhood Groups\",\n",
    "              loc=\"center left\",\n",
    "              bbox_to_anchor=(1, 0, 0.5, 1))\n",
    "\n",
    "    plt.setp(autotexts, size=8, weight=\"bold\")\n",
    "    ax.set_title(selected_nb_str)\n",
    "    plt.show()\n",
    "\n",
    "\n",
    "def change_handler(selected_nb_group: str):\n",
    "    if selected_nb_group.type == \"change\" and type(selected_nb_group.new) == int:\n",
    "        \n",
    "        clear_output(wait=True)\n",
    "        selected_nb_str = selected_nb_group.owner.value\n",
    "        \n",
    "        plot_pie_chart(selected_nb_str)\n",
    "        \n",
    "        display(dropdown)\n",
    "\n",
    "dropdown.observe(change_handler)\n",
    "\n",
    "display(dropdown)"
   ]
  },
  {
   "cell_type": "markdown",
   "id": "e060a6c1",
   "metadata": {},
   "source": [
    "From the interactive plot above we can see the proportions rentals booked corresponding to each neighbourhood group (viz. Brooklyn, Manhattan, Queens, Staten Island, Bronx)."
   ]
  },
  {
   "cell_type": "code",
   "execution_count": 18,
   "id": "8dcdccee",
   "metadata": {},
   "outputs": [
    {
     "data": {
      "image/png": "[encoded data removed]",
      "text/plain": [
       "<Figure size 640x480 with 1 Axes>"
      ]
     },
     "metadata": {},
     "output_type": "display_data"
    }
   ],
   "source": [
    "colors = sns.color_palette('colorblind')[2:5]\n",
    "plt.pie(df01.room_type.value_counts(), labels=df01.room_type.value_counts().index, colors=colors, autopct=\"%0.0f%%\")\n",
    "plt.show()"
   ]
  },
  {
   "cell_type": "code",
   "execution_count": 19,
   "id": "66ec43f2",
   "metadata": {},
   "outputs": [
    {
     "data": {
      "text/plain": [
       "room_type\n",
       "Entire home/apt    19573\n",
       "Private room       16889\n",
       "Shared room          784\n",
       "Name: count, dtype: int64"
      ]
     },
     "execution_count": 19,
     "metadata": {},
     "output_type": "execute_result"
    }
   ],
   "source": [
    "df01.room_type.value_counts()"
   ]
  },
  {
   "cell_type": "markdown",
   "id": "b8ad2902",
   "metadata": {},
   "source": [
    "When we do an overall analysis on the data, it seems `53%` of the rentals (`19,573`) have opted for **Entire home/apt**, while `45%` (`16,889`) opted for **Private rooms**, and the rest **shared room** with around `2%` of the total bookings"
   ]
  },
  {
   "cell_type": "markdown",
   "id": "028a9774",
   "metadata": {},
   "source": [
    "### C. How much average price difference is there between different room types?"
   ]
  },
  {
   "cell_type": "code",
   "execution_count": 69,
   "id": "58eac5f6",
   "metadata": {},
   "outputs": [
    {
     "data": {
      "image/png": "[encoded data removed]",
      "text/plain": [
       "<Figure size 1000x200 with 1 Axes>"
      ]
     },
     "metadata": {},
     "output_type": "display_data"
    }
   ],
   "source": [
    "_ = plot_utils.plot_hbar_plot(df01.groupby('room_type').price.mean(), \"Room Type vs Price\", figsize=(10, 2))"
   ]
  },
  {
   "cell_type": "code",
   "execution_count": 78,
   "id": "e7042347",
   "metadata": {},
   "outputs": [
    {
     "data": {
      "text/plain": [
       "room_type\n",
       "Shared room           NaN\n",
       "Private room        31.27\n",
       "Entire home/apt    172.44\n",
       "Name: price, dtype: float64"
      ]
     },
     "execution_count": 78,
     "metadata": {},
     "output_type": "execute_result"
    }
   ],
   "source": [
    "price_mean_series = df01.groupby('room_type').price.mean().sort_values()\n",
    "(price_mean_series.diff() * (100 / price_mean_series.values.min())).round(2)"
   ]
  },
  {
   "cell_type": "markdown",
   "id": "b2701423",
   "metadata": {},
   "source": [
    "**Shared room** have the lowest price, while **Private rooms** are `~31%` costlier than shared room, while **Entire home/apt** are `172.44%` costlier than shared room _(avg. minimum price)_."
   ]
  },
  {
   "cell_type": "code",
   "execution_count": null,
   "id": "f0bcbeba",
   "metadata": {},
   "outputs": [],
   "source": []
  }
 ],
 "metadata": {
  "kernelspec": {
   "display_name": "Python 3 (ipykernel)",
   "language": "python",
   "name": "python3"
  },
  "language_info": {
   "codemirror_mode": {
    "name": "ipython",
    "version": 3
   },
   "file_extension": ".py",
   "mimetype": "text/x-python",
   "name": "python",
   "nbconvert_exporter": "python",
   "pygments_lexer": "ipython3",
   "version": "3.9.16"
  }
 },
 "nbformat": 4,
 "nbformat_minor": 5
}
